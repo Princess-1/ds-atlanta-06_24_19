{
 "cells": [
  {
   "cell_type": "code",
   "execution_count": null,
   "metadata": {},
   "outputs": [],
   "source": [
    "#Build a function called vowel.counter that takes in a string and returns the number of times a,e,i,o,u\n",
    "#(lowercase or uppercase) appear in the string. \n",
    "#This function should return a dictionary with vowels as keys and the counts of each vowel as the values.\n"
   ]
  },
  {
   "cell_type": "code",
   "execution_count": 3,
   "metadata": {},
   "outputs": [
    {
     "data": {
      "text/plain": [
       "{'a': 1, 'e': 2, 'i': 3, 'o': 0, 'u': 0}"
      ]
     },
     "execution_count": 3,
     "metadata": {},
     "output_type": "execute_result"
    }
   ],
   "source": [
    "def vowel_counter(word):\n",
    "    vowels = ['a', 'e', 'i', 'o', 'u']\n",
    "    vowel_count = {}\n",
    "    letter = []\n",
    "    for i in word:\n",
    "        if i.lower() in vowels:\n",
    "            letter.append(i)\n",
    "    for i in vowels:\n",
    "        vowel_count[i] = letter.count(i)\n",
    "    return vowel_count\n",
    "vowel_counter('Hi, my name is Princess')\n",
    "    \n",
    "        "
   ]
  },
  {
   "cell_type": "code",
   "execution_count": 16,
   "metadata": {},
   "outputs": [
    {
     "name": "stdout",
     "output_type": "stream",
     "text": [
      "{'a': 1, 'e': 2, 'i': 3, 'o': 0, 'u': 0}\n"
     ]
    }
   ],
   "source": [
    "vowels = ['a', 'e', 'i', 'o', 'u']\n",
    "word = 'Hi, my name is Princess'\n",
    "word_count = {}\n",
    "words = []\n",
    "for i in word:\n",
    "    if i in vowels:\n",
    "        words.append(i)\n",
    "    for i in vowels:\n",
    "        word_count[i] = words.count(i)\n",
    "print(word_count)\n",
    "\n",
    "#fill in dict keys\n",
    "#assign values to keys\n",
    "#for i in vowels:\n",
    "    #words_count(i) = words.count(i)\n",
    "    #print(word_count(i))"
   ]
  },
  {
   "cell_type": "code",
   "execution_count": null,
   "metadata": {},
   "outputs": [],
   "source": []
  },
  {
   "cell_type": "code",
   "execution_count": null,
   "metadata": {},
   "outputs": [],
   "source": []
  }
 ],
 "metadata": {
  "kernelspec": {
   "display_name": "learn-env",
   "language": "python",
   "name": "learn-env"
  },
  "language_info": {
   "codemirror_mode": {
    "name": "ipython",
    "version": 3
   },
   "file_extension": ".py",
   "mimetype": "text/x-python",
   "name": "python",
   "nbconvert_exporter": "python",
   "pygments_lexer": "ipython3",
   "version": "3.6.6"
  }
 },
 "nbformat": 4,
 "nbformat_minor": 2
}
