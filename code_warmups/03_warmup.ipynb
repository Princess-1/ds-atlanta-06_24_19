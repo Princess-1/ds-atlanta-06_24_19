{
 "cells": [
  {
   "cell_type": "code",
   "execution_count": 1,
   "metadata": {},
   "outputs": [
    {
     "data": {
      "text/plain": [
       "[1, 2, 3, 4, 5, 6, 7, 8, 9, 10]"
      ]
     },
     "execution_count": 1,
     "metadata": {},
     "output_type": "execute_result"
    }
   ],
   "source": [
    "#Create a list with elements ranging from 1 to 10\n",
    "elements = [1, 2, 3, 4, 5, 6, 7, 8, 9, 10]\n",
    "elements"
   ]
  },
  {
   "cell_type": "code",
   "execution_count": 2,
   "metadata": {},
   "outputs": [
    {
     "name": "stdout",
     "output_type": "stream",
     "text": [
      "[[1 1]\n",
      " [2 2]\n",
      " [3 3]]\n"
     ]
    }
   ],
   "source": [
    "#Create an array with the shape (2, 3, 2)\n",
    "import numpy as np\n",
    "a = np.array([[1, 1], [2, 2], [3, 3]])\n",
    "c = [[1, 1], [2, 2], [3, 3]],[[1, 1], [2, 2], [3, 3]]\n",
    "b = np.array([[1, 1], [2, 2], [3, 3]])\n",
    "d = np.array(c)\n",
    "print(d[0])"
   ]
  },
  {
   "cell_type": "code",
   "execution_count": 3,
   "metadata": {},
   "outputs": [
    {
     "name": "stdout",
     "output_type": "stream",
     "text": [
      "[[2 2]\n",
      " [4 4]\n",
      " [6 6]]\n"
     ]
    }
   ],
   "source": [
    "print(a + b)"
   ]
  },
  {
   "cell_type": "code",
   "execution_count": 4,
   "metadata": {},
   "outputs": [
    {
     "name": "stdout",
     "output_type": "stream",
     "text": [
      "Help on function append in module numpy:\n",
      "\n",
      "append(arr, values, axis=None)\n",
      "    Append values to the end of an array.\n",
      "    \n",
      "    Parameters\n",
      "    ----------\n",
      "    arr : array_like\n",
      "        Values are appended to a copy of this array.\n",
      "    values : array_like\n",
      "        These values are appended to a copy of `arr`.  It must be of the\n",
      "        correct shape (the same shape as `arr`, excluding `axis`).  If\n",
      "        `axis` is not specified, `values` can be any shape and will be\n",
      "        flattened before use.\n",
      "    axis : int, optional\n",
      "        The axis along which `values` are appended.  If `axis` is not\n",
      "        given, both `arr` and `values` are flattened before use.\n",
      "    \n",
      "    Returns\n",
      "    -------\n",
      "    append : ndarray\n",
      "        A copy of `arr` with `values` appended to `axis`.  Note that\n",
      "        `append` does not occur in-place: a new array is allocated and\n",
      "        filled.  If `axis` is None, `out` is a flattened array.\n",
      "    \n",
      "    See Also\n",
      "    --------\n",
      "    insert : Insert elements into an array.\n",
      "    delete : Delete elements from an array.\n",
      "    \n",
      "    Examples\n",
      "    --------\n",
      "    >>> np.append([1, 2, 3], [[4, 5, 6], [7, 8, 9]])\n",
      "    array([1, 2, 3, 4, 5, 6, 7, 8, 9])\n",
      "    \n",
      "    When `axis` is specified, `values` must have the correct shape.\n",
      "    \n",
      "    >>> np.append([[1, 2, 3], [4, 5, 6]], [[7, 8, 9]], axis=0)\n",
      "    array([[1, 2, 3],\n",
      "           [4, 5, 6],\n",
      "           [7, 8, 9]])\n",
      "    >>> np.append([[1, 2, 3], [4, 5, 6]], [7, 8, 9], axis=0)\n",
      "    Traceback (most recent call last):\n",
      "    ...\n",
      "    ValueError: arrays must have same number of dimensions\n",
      "\n"
     ]
    }
   ],
   "source": [
    "help(np.append)"
   ]
  },
  {
   "cell_type": "code",
   "execution_count": 5,
   "metadata": {},
   "outputs": [],
   "source": [
    "#Print the first row of the array"
   ]
  },
  {
   "cell_type": "code",
   "execution_count": 6,
   "metadata": {},
   "outputs": [],
   "source": [
    "#Challenge: Using `challenge_list = [1,2,3,4,5]`, create a new list that should equal `[0, 1, 2, 3, 6, 5, 12, 7, 20, 9]`\n",
    "challenge_list = [1,2,3,4,5]\n",
    "challenge_list2 =[12, 7, 20, 9]\n",
    "#challenge_list.extend(challenge_list2)\n",
    "#challenge_list"
   ]
  },
  {
   "cell_type": "code",
   "execution_count": 10,
   "metadata": {},
   "outputs": [
    {
     "name": "stdout",
     "output_type": "stream",
     "text": [
      "[0, 1, 2, 3, 6, 5, 12, 7, 20, 9]\n"
     ]
    }
   ],
   "source": [
    "challenge_list = [1,2,3,4,5]\n",
    "challenge_list3 = []\n",
    "for i in range(len(challenge_list)):\n",
    "    challenge_list3.append(challenge_list[i] * i)\n",
    "    challenge_list3.append(challenge_list[i] + i)\n",
    "print(challenge_list3)"
   ]
  },
  {
   "cell_type": "code",
   "execution_count": null,
   "metadata": {},
   "outputs": [],
   "source": []
  }
 ],
 "metadata": {
  "kernelspec": {
   "display_name": "Python 3",
   "language": "python",
   "name": "python3"
  },
  "language_info": {
   "codemirror_mode": {
    "name": "ipython",
    "version": 3
   },
   "file_extension": ".py",
   "mimetype": "text/x-python",
   "name": "python",
   "nbconvert_exporter": "python",
   "pygments_lexer": "ipython3",
   "version": "3.7.3"
  }
 },
 "nbformat": 4,
 "nbformat_minor": 2
}
