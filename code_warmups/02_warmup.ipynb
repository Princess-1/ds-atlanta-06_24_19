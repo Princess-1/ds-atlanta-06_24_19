{
 "cells": [
  {
   "cell_type": "code",
   "execution_count": 6,
   "metadata": {},
   "outputs": [
    {
     "data": {
      "text/plain": [
       "{'Thoa': 'Pho noodle',\n",
       " 'Maia': 'Bun',\n",
       " 'Patrick': 'Sushi',\n",
       " 'Christiaan': 'Broccoli',\n",
       " 'Gary': 'Pancakes'}"
      ]
     },
     "execution_count": 6,
     "metadata": {},
     "output_type": "execute_result"
    }
   ],
   "source": [
    "classmates = {'Thoa': 'Pho noodle', 'Maia': 'Bun', 'Patrick': 'Sushi', 'Christiaan': 'Broccoli', 'Gary': 'Pancakes'}\n",
    "classmates"
   ]
  },
  {
   "cell_type": "code",
   "execution_count": 10,
   "metadata": {},
   "outputs": [
    {
     "name": "stdout",
     "output_type": "stream",
     "text": [
      "Thoa\n",
      "Maia\n",
      "Patrick\n",
      "Christiaan\n",
      "Gary\n"
     ]
    }
   ],
   "source": [
    "for i in classmates:\n",
    "    print(i)"
   ]
  },
  {
   "cell_type": "code",
   "execution_count": 12,
   "metadata": {},
   "outputs": [
    {
     "name": "stdout",
     "output_type": "stream",
     "text": [
      "Pho noodle\n",
      "Bun\n",
      "Sushi\n",
      "Broccoli\n",
      "Pancakes\n"
     ]
    }
   ],
   "source": [
    "for n in classmates:\n",
    "    print(classmates[n])"
   ]
  },
  {
   "cell_type": "code",
   "execution_count": 19,
   "metadata": {},
   "outputs": [
    {
     "data": {
      "text/plain": [
       "[{'name': 'Chistiaan', 'birth_month': 'January', 'birth_country': 'USA'},\n",
       " {'name': 'Maia', 'birth_month': 'June', 'birth_country': 'Vietnam'},\n",
       " {'name': 'Patrick', 'birth_month': 'August', 'birth_country': 'USA'}]"
      ]
     },
     "execution_count": 19,
     "metadata": {},
     "output_type": "execute_result"
    }
   ],
   "source": [
    "classmates_3 = [{'name':'Chistiaan','birth_month': 'January', 'birth_country':'USA'},{'name': 'Maia', 'birth_month': 'June', 'birth_country': 'Vietnam'},{'name': 'Patrick', 'birth_month': 'August', 'birth_country': 'USA'}]\n",
    "classmates_3\n"
   ]
  },
  {
   "cell_type": "code",
   "execution_count": 20,
   "metadata": {
    "scrolled": true
   },
   "outputs": [
    {
     "name": "stdout",
     "output_type": "stream",
     "text": [
      "June\n"
     ]
    }
   ],
   "source": [
    "print(classmates_3[1]['birth_month'])"
   ]
  },
  {
   "cell_type": "code",
   "execution_count": 34,
   "metadata": {},
   "outputs": [
    {
     "name": "stdout",
     "output_type": "stream",
     "text": [
      "['Chistiaan is from, USA', 'Maia is from, Vietnam', 'Patrick is from, USA']\n"
     ]
    }
   ],
   "source": [
    "birth_months = []\n",
    "for person_dict in classmates_3:\n",
    "    birth_months.append(person_dict['name'].title() + ' is from, ' + person_dict['birth_country'])\n",
    "print(birth_months)"
   ]
  },
  {
   "cell_type": "code",
   "execution_count": 57,
   "metadata": {},
   "outputs": [
    {
     "data": {
      "text/plain": [
       "[('Chistiaan', 'January', 'USA'),\n",
       " ('Maia', 'June', 'Vietnam'),\n",
       " ('Patrick', 'August', 'USA')]"
      ]
     },
     "execution_count": 57,
     "metadata": {},
     "output_type": "execute_result"
    }
   ],
   "source": [
    "person_infos = []\n",
    "\n",
    "for person_info in classmates_3:\n",
    "    person_infos.append(tuple(person_info.values()))\n",
    "person_infos\n"
   ]
  },
  {
   "cell_type": "code",
   "execution_count": null,
   "metadata": {},
   "outputs": [],
   "source": []
  }
 ],
 "metadata": {
  "kernelspec": {
   "display_name": "Python 3",
   "language": "python",
   "name": "python3"
  },
  "language_info": {
   "codemirror_mode": {
    "name": "ipython",
    "version": 3
   },
   "file_extension": ".py",
   "mimetype": "text/x-python",
   "name": "python",
   "nbconvert_exporter": "python",
   "pygments_lexer": "ipython3",
   "version": "3.7.3"
  }
 },
 "nbformat": 4,
 "nbformat_minor": 2
}
