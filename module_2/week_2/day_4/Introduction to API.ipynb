{
 "cells": [
  {
   "cell_type": "markdown",
   "metadata": {},
   "source": [
    "# Introduction to APIs"
   ]
  },
  {
   "cell_type": "markdown",
   "metadata": {},
   "source": [
    "# What is an API?"
   ]
  },
  {
   "cell_type": "markdown",
   "metadata": {},
   "source": [
    "An API (Application Programming Interface) is a way for one system to interact with another via a well-defined interface. An interface is any endpoint that can be used to take actions and consume data on a given application. The HTML response of every web site is an interface, for instance.\n",
    "\n",
    "The web interface provides HTML, which is a combination of data (the dynamic values like venue names, addresses, and check-ins) and presentation (HTML tags, CSS classes, JavaScript effects) meant to be consumed by a web browser. This is great for end users who want to see something visually compelling."
   ]
  },
  {
   "cell_type": "markdown",
   "metadata": {},
   "source": [
    "### The Many Use Cases for APIs\n",
    "APIs can actually be used for many things - not just for retrieving information. \n",
    "- Twilio has an API that allows you to write a script to call their API to send text messages to people. \n",
    "- GitHub has an API for creating new repositories. \n",
    "- Many services have an API allowing a computer to automate a task that a person might otherwise have to do through a website - whether uploading a photo to Flickr, searching for a company name in a state database or getting a list of garbage collection times for a municipality."
   ]
  },
  {
   "cell_type": "markdown",
   "metadata": {},
   "source": [
    "### Limitations of APIs\n",
    "When working with APIs, there are some limitations you have to be aware of - especially relating to scope and scale.\n",
    "\n",
    "- **Scope** - Just because a company has an API and has information, it doesn't mean you can get all of the information through their API.\n",
    "- **Scale** - Some APIs are provided for free as a public service. Others you have to pay for, or allow you to perform activities (like sending a text message) that you pay for. Make sure that you know what the rate limits are and that your use case isn't going to need more API calls than you will be able to make.\n"
   ]
  },
  {
   "cell_type": "markdown",
   "metadata": {},
   "source": [
    "##  Summary Article of an Intro to API Class.\n",
    "\n",
    "https://restful.io/an-introduction-to-api-s-cee90581ca1b\n",
    "\n",
    "- link to class\n",
    "https://zapier.com/learn/apis/"
   ]
  },
  {
   "cell_type": "markdown",
   "metadata": {},
   "source": [
    "Dealing with HTTP requests could be a challenging task for any programming language. Python has two built-in modules, urllib and urllib2 to handle these requests but these could be very confusing and the documentation is not clear. This requires the programmer to write a lot of code to make even a simple HTTP request.\n",
    "\n",
    "To make these things simpler, one easy-to-use third-party library, known as Requests, is available and most developers prefer to use it instead or urllib/urllib2. It is an Apache2 licensed HTTP library powered by urllib3 and httplib. \n",
    "\n",
    "- **Requests** is add-on library that allows you to send HTTP requests using Python. With this library, you can access content like web page headers, form data, files, and parameters via simple Python commands. It also allows you to access the response data in a simple way."
   ]
  },
  {
   "cell_type": "code",
   "execution_count": 1,
   "metadata": {},
   "outputs": [
    {
     "name": "stdout",
     "output_type": "stream",
     "text": [
      "/bin/sh: pip: command not found\r\n"
     ]
    }
   ],
   "source": [
    "!pip install request\n",
    "import requests"
   ]
  },
  {
   "cell_type": "markdown",
   "metadata": {},
   "source": [
    "## The `.get()` Method\n",
    "\n",
    "Now we have requests library ready in our working environment, we can start making some requests using the `.get()` method as shown below:"
   ]
  },
  {
   "cell_type": "code",
   "execution_count": 2,
   "metadata": {},
   "outputs": [
    {
     "data": {
      "text/plain": [
       "requests.models.Response"
      ]
     },
     "execution_count": 2,
     "metadata": {},
     "output_type": "execute_result"
    }
   ],
   "source": [
    "resp = requests.get('https://www.google.com')\n",
    "type(resp)\n"
   ]
  },
  {
   "cell_type": "markdown",
   "metadata": {},
   "source": [
    "GET is by far the most used HTTP method. We can use GET request to retrieve data from any destination. "
   ]
  },
  {
   "cell_type": "code",
   "execution_count": 4,
   "metadata": {},
   "outputs": [
    {
     "data": {
      "text/plain": [
       "requests.models.Response"
      ]
     },
     "execution_count": 4,
     "metadata": {},
     "output_type": "execute_result"
    }
   ],
   "source": [
    "#create a GET request from https://api.github.com/events\n",
    "r = requests.get('https://api.github.com/events')\n",
    "type(r)"
   ]
  },
  {
   "cell_type": "markdown",
   "metadata": {},
   "source": [
    "## Status Codes\n",
    "The request we make may not be always successful. The best way is to check the status code which gets returned with the response. Here is how you would do this. "
   ]
  },
  {
   "cell_type": "code",
   "execution_count": 5,
   "metadata": {},
   "outputs": [
    {
     "data": {
      "text/plain": [
       "True"
      ]
     },
     "execution_count": 5,
     "metadata": {},
     "output_type": "execute_result"
    }
   ],
   "source": [
    "resp.status_code == requests.codes.ok"
   ]
  },
  {
   "cell_type": "markdown",
   "metadata": {},
   "source": [
    "## Response Contents\n"
   ]
  },
  {
   "cell_type": "code",
   "execution_count": 6,
   "metadata": {
    "scrolled": true
   },
   "outputs": [
    {
     "name": "stdout",
     "output_type": "stream",
     "text": [
      "<!doctype html><html itemscope=\"\" itemtype=\"http://schema.org/WebPage\" lang=\"en\"><head><meta content=\"Search the world's information, including webpages, images, videos and more. Google has many special features to help you find exactly what you're looking for.\" name=\"description\"><meta content=\"noodp\" name=\"robots\"><meta content=\"text/html; charset=UTF-8\" http-equiv=\"Content-Type\"><meta content=\"/images/branding/googleg/1x/googleg_standard_color_128dp.png\" itemprop=\"image\"><title>Google</title><script nonce=\"8xiJ09zwDKtE7aNJLOfLmQ==\">(function(){window.google={kEI:'XI4wXfuBDIab_QaA_rAw',kEXPI:'0,201970,1151834,1958,2422,1225,590,140,224,510,19,1046,2082,1070,377,207,1017,175,70,1037,202,54,186,61,402,10,57,100,73,1133430,1197730,329537,1294,12383,4855,32692,15247,867,12163,6381,3335,2,2,6801,369,3314,5505,224,2218,5369,573,1119,2,204,375,727,2431,59,2,1,3,1297,4323,3700,1267,774,2249,1408,1413,1924,6,1140,9,1963,2595,3601,669,1048,3,1807,1397,81,7,1,2,488,2044,8909,5297,796,101,1119,958,753,120,37,1180,1212,149,1614,2735,1559,1503,2,631,3240,44,1769,605,2408,1161,1447,12,622,2226,656,18,319,1118,902,1153,198,777,1,369,1316,705,756,490,29,400,992,1107,10,168,8,109,461,557,1495,174,219,748,48,553,11,14,10,1269,1973,239,25,177,167,157,4,1245,7,840,324,194,531,536,398,18,38,158,662,1464,539,275,153,166,23,335,483,260,39,6,1142,1,3,7,7,1,2,1492,1160,795,1035,9,184,545,50,943,239,17,126,377,360,252,74,658,78,525,448,105,194,29,216,184,44,207,1,1,893,328,1284,16,84,135,201,81,486,21,394,1383,38,44,60,147,1492,608,90,10,25,119,224,5,509,69,464,33,4,55,205,459,41,229,501,60,61,118,318,592,79,1039,1152,14,218,133,14,799,220,945,2,381,200,406,321,84,208,58,61,394,275,32,295,37,37,1446,1,696,337,2,5912447,2995,16,18,8797311,4,1572,549,333,444,1,2,80,1,900,581,11,304,1,8,1,2,2132,1,1,1,1,1,414,1,748,141,59,726,3,13,557,1,2850,73,19,53,35,10,12,1,26,24,1,22304034',authuser:0,kscs:'c9c918f0_XI4wXfuBDIab_QaA_rAw',kGL:'US'};google.sn='webhp';google.kHL='en';})();(function(){google.lc=[];google.li=0;google.getEI=function(a){for(var b;a&&(!a.getAttribute||!(b=a.getAttribute(\"eid\")));)a=a.parentNode;return b||google.kEI};google.getLEI=function(a){for(var b=null;a&&(!a.getAttribute||!(b=a.getAttribute(\"leid\")));)a=a.parentNode;return b};google.https=function(){return\"https:\"==window.location.protocol};google.ml=function(){return null};google.time=function(){return(new Date).getTime()};google.log=function(a,b,e,c,g){if(a=google.logUrl(a,b,e,c,g)){b=new Image;var d=google.lc,f=google.li;d[f]=b;b.onerror=b.onload=b.onabort=function(){delete d[f]};google.vel&&google.vel.lu&&google.vel.lu(a);b.src=a;google.li=f+1}};google.logUrl=function(a,b,e,c,g){var d=\"\",f=google.ls||\"\";e||-1!=b.search(\"&ei=\")||(d=\"&ei=\"+google.getEI(c),-1==b.search(\"&lei=\")&&(c=google.getLEI(c))&&(d+=\"&lei=\"+c));c=\"\";!e&&google.cshid&&-1==b.search(\"&cshid=\")&&\"slh\"!=a&&(c=\"&cshid=\"+google.cshid);a=e||\"/\"+(g||\"gen_204\")+\"?atyp=i&ct=\"+a+\"&cad=\"+b+d+f+\"&zx=\"+google.time()+c;/^http:/i.test(a)&&google.https()&&(google.ml(Error(\"a\"),!1,{src:a,glmm:1}),a=\"\");return a};}).call(this);(function(){google.y={};google.x=function(a,b){if(a)var c=a.id;else{do c=Math.random();while(google.y[c])}google.y[c]=[a,b];return!1};google.lm=[];google.plm=function(a){google.lm.push.apply(google.lm,a)};google.lq=[];google.load=function(a,b,c){google.lq.push([[a],b,c])};google.loadAll=function(a,b){google.lq.push([a,b])};}).call(this);google.f={};var a=window.location,b=a.href.indexOf(\"#\");if(0<=b){var c=a.href.substring(b+1);/(^|&)q=/.test(c)&&-1==c.indexOf(\"#\")&&a.replace(\"/search?\"+c.replace(/(^|&)fp=[^&]*/g,\"\")+\"&cad=h\")};</script><style>#gbar,#guser{font-size:13px;padding-top:1px !important;}#gbar{height:22px}#guser{padding-bottom:7px !important;text-align:right}.gbh,.gbd{border-top:1px solid #c9d7f1;font-size:1px}.gbh{height:0;position:absolute;top:24px;width:100%}@media all{.gb1{height:22px;margin-right:.5em;vertical-align:top}#gbar{float:left}}a.gb1,a.gb4{text-decoration:underline !important}a.gb1,a.gb4{color:#00c !important}.gbi .gb4{color:#dd8e27 !important}.gbf .gb4{color:#900 !important}\n",
      "</style><style>body,td,a,p,.h{font-family:arial,sans-serif}body{margin:0;overflow-y:scroll}#gog{padding:3px 8px 0}td{line-height:.8em}.gac_m td{line-height:17px}form{margin-bottom:20px}.h{color:#36c}.q{color:#00c}.ts td{padding:0}.ts{border-collapse:collapse}em{font-weight:bold;font-style:normal}.lst{height:25px;width:496px}.gsfi,.lst{font:18px arial,sans-serif}.gsfs{font:17px arial,sans-serif}.ds{display:inline-box;display:inline-block;margin:3px 0 4px;margin-left:4px}input{font-family:inherit}a.gb1,a.gb2,a.gb3,a.gb4{color:#11c !important}body{background:#fff;color:black}a{color:#11c;text-decoration:none}a:hover,a:active{text-decoration:underline}.fl a{color:#36c}a:visited{color:#551a8b}a.gb1,a.gb4{text-decoration:underline}a.gb3:hover{text-decoration:none}#ghead a.gb2:hover{color:#fff !important}.sblc{padding-top:5px}.sblc a{display:block;margin:2px 0;margin-left:13px;font-size:11px}.lsbb{background:#eee;border:solid 1px;border-color:#ccc #999 #999 #ccc;height:30px}.lsbb{display:block}.ftl,#fll a{display:inline-block;margin:0 12px}.lsb{background:url(/images/nav_logo229.png) 0 -261px repeat-x;border:none;color:#000;cursor:pointer;height:30px;margin:0;outline:0;font:15px arial,sans-serif;vertical-align:top}.lsb:active{background:#ccc}.lst:focus{outline:none}</style><script nonce=\"8xiJ09zwDKtE7aNJLOfLmQ==\"></script></head><body bgcolor=\"#fff\"><script nonce=\"8xiJ09zwDKtE7aNJLOfLmQ==\">(function(){var src='/images/nav_logo229.png';var iesg=false;document.body.onload = function(){window.n && window.n();if (document.images){new Image().src=src;}\n",
      "if (!iesg){document.f&&document.f.q.focus();document.gbqf&&document.gbqf.q.focus();}\n",
      "}\n",
      "})();</script><div id=\"mngb\"> <div id=gbar><nobr><b class=gb1>Search</b> <a class=gb1 href=\"https://www.google.com/imghp?hl=en&tab=wi\">Images</a> <a class=gb1 href=\"https://maps.google.com/maps?hl=en&tab=wl\">Maps</a> <a class=gb1 href=\"https://play.google.com/?hl=en&tab=w8\">Play</a> <a class=gb1 href=\"https://www.youtube.com/?gl=US&tab=w1\">YouTube</a> <a class=gb1 href=\"https://news.google.com/nwshp?hl=en&tab=wn\">News</a> <a class=gb1 href=\"https://mail.google.com/mail/?tab=wm\">Gmail</a> <a class=gb1 href=\"https://drive.google.com/?tab=wo\">Drive</a> <a class=gb1 style=\"text-decoration:none\" href=\"https://www.google.com/intl/en/about/products?tab=wh\"><u>More</u> &raquo;</a></nobr></div><div id=guser width=100%><nobr><span id=gbn class=gbi></span><span id=gbf class=gbf></span><span id=gbe></span><a href=\"http://www.google.com/history/optout?hl=en\" class=gb4>Web History</a> | <a  href=\"/preferences?hl=en\" class=gb4>Settings</a> | <a target=_top id=gb_70 href=\"https://accounts.google.com/ServiceLogin?hl=en&passive=true&continue=https://www.google.com/\" class=gb4>Sign in</a></nobr></div><div class=gbh style=left:0></div><div class=gbh style=right:0></div> </div><center><br clear=\"all\" id=\"lgpd\"><div id=\"lga\"><img alt=\"Google\" height=\"92\" src=\"/images/branding/googlelogo/1x/googlelogo_white_background_color_272x92dp.png\" style=\"padding:28px 0 14px\" width=\"272\" id=\"hplogo\"><br><br></div><form action=\"/search\" name=\"f\"><table cellpadding=\"0\" cellspacing=\"0\"><tr valign=\"top\"><td width=\"25%\">&nbsp;</td><td align=\"center\" nowrap=\"\"><input name=\"ie\" value=\"ISO-8859-1\" type=\"hidden\"><input value=\"en\" name=\"hl\" type=\"hidden\"><input name=\"source\" type=\"hidden\" value=\"hp\"><input name=\"biw\" type=\"hidden\"><input name=\"bih\" type=\"hidden\"><div class=\"ds\" style=\"height:32px;margin:4px 0\"><input style=\"color:#000;margin:0;padding:5px 8px 0 6px;vertical-align:top\" autocomplete=\"off\" class=\"lst\" value=\"\" title=\"Google Search\" maxlength=\"2048\" name=\"q\" size=\"57\"></div><br style=\"line-height:0\"><span class=\"ds\"><span class=\"lsbb\"><input class=\"lsb\" value=\"Google Search\" name=\"btnG\" type=\"submit\"></span></span><span class=\"ds\"><span class=\"lsbb\"><input class=\"lsb\" value=\"I'm Feeling Lucky\" name=\"btnI\" onclick=\"if(this.form.q.value)this.checked=1; else top.location='/doodles/'\" type=\"submit\"></span></span></td><td class=\"fl sblc\" align=\"left\" nowrap=\"\" width=\"25%\"><a href=\"/advanced_search?hl=en&amp;authuser=0\">Advanced search</a><a href=\"/language_tools?hl=en&amp;authuser=0\">Language tools</a></td></tr></table><input id=\"gbv\" name=\"gbv\" type=\"hidden\" value=\"1\"><script nonce=\"8xiJ09zwDKtE7aNJLOfLmQ==\">(function(){var a,b=\"1\";if(document&&document.getElementById)if(\"undefined\"!=typeof XMLHttpRequest)b=\"2\";else if(\"undefined\"!=typeof ActiveXObject){var c,d,e=[\"MSXML2.XMLHTTP.6.0\",\"MSXML2.XMLHTTP.3.0\",\"MSXML2.XMLHTTP\",\"Microsoft.XMLHTTP\"];for(c=0;d=e[c++];)try{new ActiveXObject(d),b=\"2\"}catch(h){}}a=b;if(\"2\"==a&&-1==location.search.indexOf(\"&gbv=2\")){var f=google.gbvu,g=document.getElementById(\"gbv\");g&&(g.value=a);f&&window.setTimeout(function(){location.href=f},0)};}).call(this);</script></form><div id=\"gac_scont\"></div><div style=\"font-size:83%;min-height:3.5em\"><br></div><span id=\"footer\"><div style=\"font-size:10pt\"><div style=\"margin:19px auto;text-align:center\" id=\"fll\"><a href=\"/intl/en/ads/\">Advertising Programs</a><a href=\"/services/\">Business Solutions</a><a href=\"/intl/en/about.html\">About Google</a></div></div><p style=\"color:#767676;font-size:8pt\">&copy; 2019 - <a href=\"/intl/en/policies/privacy/\">Privacy</a> - <a href=\"/intl/en/policies/terms/\">Terms</a></p></span></center><script nonce=\"8xiJ09zwDKtE7aNJLOfLmQ==\">(function(){window.google.cdo={height:0,width:0};(function(){var a=window.innerWidth,b=window.innerHeight;if(!a||!b){var c=window.document,d=\"CSS1Compat\"==c.compatMode?c.documentElement:c.body;a=d.clientWidth;b=d.clientHeight}a&&b&&(a!=google.cdo.width||b!=google.cdo.height)&&google.log(\"\",\"\",\"/client_204?&atyp=i&biw=\"+a+\"&bih=\"+b+\"&ei=\"+google.kEI);}).call(this);})();(function(){var u='/xjs/_/js/k\\x3dxjs.hp.en_US.OgulK-_4sQ4.O/m\\x3dsb_he,d/am\\x3dABbUBA/d\\x3d1/rs\\x3dACT90oG6u2Qd6jhUuZdjSs2YpnqAaDMnrw';setTimeout(function(){var a=document.createElement(\"script\");a.src=u;google.timers&&google.timers.load&&google.tick&&google.tick(\"load\",\"xjsls\");document.body.appendChild(a)},0);})();(function(){window.google.xjsu='/xjs/_/js/k\\x3dxjs.hp.en_US.OgulK-_4sQ4.O/m\\x3dsb_he,d/am\\x3dABbUBA/d\\x3d1/rs\\x3dACT90oG6u2Qd6jhUuZdjSs2YpnqAaDMnrw';})();function _DumpException(e){throw e;}\n",
      "function _F_installCss(c){}\n",
      "(function(){google.spjs=false;google.snet=true;google.em=[];google.emw=false;})();google.sm=1;(function(){var pmc='{\\x22Qnk92g\\x22:{},\\x22RWGcrA\\x22:{},\\x22U5B21g\\x22:{},\\x22YFCs/g\\x22:{},\\x22ZI/YVQ\\x22:{},\\x22d\\x22:{},\\x22mVopag\\x22:{},\\x22sb_he\\x22:{\\x22agen\\x22:true,\\x22cgen\\x22:true,\\x22client\\x22:\\x22heirloom-hp\\x22,\\x22dh\\x22:true,\\x22dhqt\\x22:true,\\x22ds\\x22:\\x22\\x22,\\x22ffql\\x22:\\x22en\\x22,\\x22fl\\x22:true,\\x22host\\x22:\\x22google.com\\x22,\\x22isbh\\x22:28,\\x22jsonp\\x22:true,\\x22msgs\\x22:{\\x22cibl\\x22:\\x22Clear Search\\x22,\\x22dym\\x22:\\x22Did you mean:\\x22,\\x22lcky\\x22:\\x22I\\\\u0026#39;m Feeling Lucky\\x22,\\x22lml\\x22:\\x22Learn more\\x22,\\x22oskt\\x22:\\x22Input tools\\x22,\\x22psrc\\x22:\\x22This search was removed from your \\\\u003Ca href\\x3d\\\\\\x22/history\\\\\\x22\\\\u003EWeb History\\\\u003C/a\\\\u003E\\x22,\\x22psrl\\x22:\\x22Remove\\x22,\\x22sbit\\x22:\\x22Search by image\\x22,\\x22srch\\x22:\\x22Google Search\\x22},\\x22ovr\\x22:{},\\x22pq\\x22:\\x22\\x22,\\x22refpd\\x22:true,\\x22rfs\\x22:[],\\x22sbpl\\x22:24,\\x22sbpr\\x22:24,\\x22scd\\x22:10,\\x22sce\\x22:5,\\x22stok\\x22:\\x22gMkN4H8M-a2BtaWCTLMWwTjahzE\\x22,\\x22uhde\\x22:false}}';google.pmc=JSON.parse(pmc);})();</script>        </body></html>\n"
     ]
    }
   ],
   "source": [
    "print (resp.text)"
   ]
  },
  {
   "cell_type": "markdown",
   "metadata": {},
   "source": [
    "## Response Headers\n",
    "The response of an HTTP request can contain many headers that holds different bits of information. We can use `.header` property of the response object to access the header information as shown below:\n"
   ]
  },
  {
   "cell_type": "code",
   "execution_count": 7,
   "metadata": {},
   "outputs": [
    {
     "data": {
      "text/plain": [
       "{'Date': 'Thu, 18 Jul 2019 15:21:00 GMT',\n",
       " 'Expires': '-1',\n",
       " 'Cache-Control': 'private, max-age=0',\n",
       " 'Content-Type': 'text/html; charset=ISO-8859-1',\n",
       " 'P3P': 'CP=\"This is not a P3P policy! See g.co/p3phelp for more info.\"',\n",
       " 'Content-Encoding': 'gzip',\n",
       " 'Server': 'gws',\n",
       " 'X-XSS-Protection': '0',\n",
       " 'X-Frame-Options': 'SAMEORIGIN',\n",
       " 'Set-Cookie': '1P_JAR=2019-07-18-15; expires=Sat, 17-Aug-2019 15:21:00 GMT; path=/; domain=.google.com, NID=188=upZlTR3jMTx1Brnsv0e31JmWbVXdI4yltROYTS8WtCEUf2DE4eHzpQzVUON22UlB0Mlz1mb_l5bQ-z1t3wD1ok_kul2SA3S7khIviYh0EvyX28xglPdNSf5o6XKUXQLTUYLpJeqCtbddbKv0vfpqUuN8kawP69aOa-8t5f1rr6E; expires=Fri, 17-Jan-2020 15:21:00 GMT; path=/; domain=.google.com; HttpOnly',\n",
       " 'Alt-Svc': 'quic=\":443\"; ma=2592000; v=\"46,43,39\"',\n",
       " 'Transfer-Encoding': 'chunked'}"
      ]
     },
     "execution_count": 7,
     "metadata": {},
     "output_type": "execute_result"
    }
   ],
   "source": [
    "dict(resp.headers)"
   ]
  },
  {
   "cell_type": "markdown",
   "metadata": {},
   "source": [
    "## Passing Parameters in GET\n",
    "In some cases, you'll need to pass parameters along with your GET requests. These extra parameters usually take the the form of query strings added to the requested URL. To do this, we need to pass these values in the `params` parameter. Let's try to acces information from `httpbin` with some user information. \n",
    "\n"
   ]
  },
  {
   "cell_type": "code",
   "execution_count": 8,
   "metadata": {},
   "outputs": [
    {
     "name": "stdout",
     "output_type": "stream",
     "text": [
      "http://httpbin.org/get?user_name=doe&password=jane\n",
      "{\n",
      "  \"args\": {\n",
      "    \"password\": \"jane\", \n",
      "    \"user_name\": \"doe\"\n",
      "  }, \n",
      "  \"headers\": {\n",
      "    \"Accept\": \"*/*\", \n",
      "    \"Accept-Encoding\": \"gzip, deflate\", \n",
      "    \"Host\": \"httpbin.org\", \n",
      "    \"User-Agent\": \"python-requests/2.21.0\"\n",
      "  }, \n",
      "  \"origin\": \"65.213.153.66, 65.213.153.66\", \n",
      "  \"url\": \"https://httpbin.org/get?user_name=doe&password=jane\"\n",
      "}\n",
      "\n"
     ]
    }
   ],
   "source": [
    "credentials = {'user_name': 'doe', 'password': 'jane'}  \n",
    "r = requests.get('http://httpbin.org/get', params=credentials)\n",
    "\n",
    "print(r.url)  \n",
    "print(r.text)  "
   ]
  },
  {
   "cell_type": "markdown",
   "metadata": {},
   "source": [
    "## API EXAMPLE"
   ]
  },
  {
   "cell_type": "markdown",
   "metadata": {},
   "source": [
    "Now that we've discussed HTTP requests, it's time to practice applying those skills to a production level API."
   ]
  },
  {
   "cell_type": "markdown",
   "metadata": {},
   "source": [
    "To start, go over to the API documentation at:\n",
    "\n",
    "https://dev.socrata.com/foundry/data.cityofnewyork.us/fhrw-4uyv"
   ]
  },
  {
   "cell_type": "code",
   "execution_count": 9,
   "metadata": {},
   "outputs": [],
   "source": [
    "import requests\n",
    "import pandas as pd\n",
    "\n",
    "zip_code = '11004'\n",
    "\n",
    "# can't figure out date ranges at the moment...\n",
    "start_date = '2018-01-01T12:00:00'\n",
    "end_date = '2018-02-01T12:00:00'\n",
    "\n",
    "# create pull request based on parameters\n",
    "# https://data.cityofnewyork.us/Social-Services/311-Service-Requests-from-2010-to-Present/erm2-nwe9 click API\n",
    "\n",
    "#url = \"https://data.cityofnewyork.us/resource/fhrw-4uyv.json?incident_zip={}\".format(zip_code)\n",
    "url = \"https://data.cityofnewyork.us/resource/fhrw-4uyv.json\"\n",
    "# do the pull\n",
    "response = requests.get(url)\n",
    "if response.status_code == 200:\n",
    "    data = response.json()\n",
    "else:\n",
    "    print('Hit an error.')"
   ]
  },
  {
   "cell_type": "code",
   "execution_count": 10,
   "metadata": {},
   "outputs": [
    {
     "name": "stdout",
     "output_type": "stream",
     "text": [
      "<class 'list'>\n"
     ]
    }
   ],
   "source": [
    "print(type(data))"
   ]
  },
  {
   "cell_type": "code",
   "execution_count": 11,
   "metadata": {},
   "outputs": [
    {
     "data": {
      "text/plain": [
       "1000"
      ]
     },
     "execution_count": 11,
     "metadata": {},
     "output_type": "execute_result"
    }
   ],
   "source": [
    "len(data)"
   ]
  },
  {
   "cell_type": "code",
   "execution_count": 12,
   "metadata": {},
   "outputs": [
    {
     "data": {
      "text/plain": [
       "{'unique_key': '32670231',\n",
       " 'created_date': '2016-02-13T14:59:46.000',\n",
       " 'closed_date': '2016-02-17T08:44:11.000',\n",
       " 'agency': 'HPD',\n",
       " 'agency_name': 'Department of Housing Preservation and Development',\n",
       " 'complaint_type': 'HEAT/HOT WATER',\n",
       " 'descriptor': 'APARTMENT ONLY',\n",
       " 'location_type': 'RESIDENTIAL BUILDING',\n",
       " 'incident_zip': '10034',\n",
       " 'incident_address': '66 VERMILYEA AVENUE',\n",
       " 'street_name': 'VERMILYEA AVENUE',\n",
       " 'address_type': 'ADDRESS',\n",
       " 'city': 'NEW YORK',\n",
       " 'facility_type': 'N/A',\n",
       " 'status': 'Closed',\n",
       " 'resolution_description': 'The complaint you filed is a duplicate of a condition already reported by another tenant for a building-wide condition. The original complaint is still open. HPD may attempt to contact you to verify the correction of the condition or may conduct an inspection of your unit if the original complainant is not available for verification.',\n",
       " 'resolution_action_updated_date': '2016-02-17T08:44:11.000',\n",
       " 'community_board': '12 MANHATTAN',\n",
       " 'bbl': '1022340036',\n",
       " 'borough': 'MANHATTAN',\n",
       " 'x_coordinate_state_plane': '1005369',\n",
       " 'y_coordinate_state_plane': '254666',\n",
       " 'open_data_channel_type': 'ONLINE',\n",
       " 'park_facility_name': 'Unspecified',\n",
       " 'park_borough': 'MANHATTAN',\n",
       " 'latitude': '40.865648695779235',\n",
       " 'longitude': '-73.9236456109652',\n",
       " 'location': {'type': 'Point',\n",
       "  'coordinates': [-73.923645610965, 40.865648695779]},\n",
       " ':@computed_region_efsh_h5xi': '13092',\n",
       " ':@computed_region_f5dn_yrer': '47',\n",
       " ':@computed_region_yeji_bk3q': '4',\n",
       " ':@computed_region_92fq_4b7q': '39',\n",
       " ':@computed_region_sbqj_enih': '22'}"
      ]
     },
     "execution_count": 12,
     "metadata": {},
     "output_type": "execute_result"
    }
   ],
   "source": [
    "data[210]"
   ]
  },
  {
   "cell_type": "code",
   "execution_count": 13,
   "metadata": {},
   "outputs": [
    {
     "name": "stdout",
     "output_type": "stream",
     "text": [
      "1000\n"
     ]
    },
    {
     "data": {
      "text/html": [
       "<div>\n",
       "<style scoped>\n",
       "    .dataframe tbody tr th:only-of-type {\n",
       "        vertical-align: middle;\n",
       "    }\n",
       "\n",
       "    .dataframe tbody tr th {\n",
       "        vertical-align: top;\n",
       "    }\n",
       "\n",
       "    .dataframe thead th {\n",
       "        text-align: right;\n",
       "    }\n",
       "</style>\n",
       "<table border=\"1\" class=\"dataframe\">\n",
       "  <thead>\n",
       "    <tr style=\"text-align: right;\">\n",
       "      <th></th>\n",
       "      <th>:@computed_region_92fq_4b7q</th>\n",
       "      <th>:@computed_region_efsh_h5xi</th>\n",
       "      <th>:@computed_region_f5dn_yrer</th>\n",
       "      <th>:@computed_region_sbqj_enih</th>\n",
       "      <th>:@computed_region_yeji_bk3q</th>\n",
       "      <th>address_type</th>\n",
       "      <th>agency</th>\n",
       "      <th>agency_name</th>\n",
       "      <th>bbl</th>\n",
       "      <th>borough</th>\n",
       "      <th>...</th>\n",
       "      <th>park_facility_name</th>\n",
       "      <th>resolution_action_updated_date</th>\n",
       "      <th>resolution_description</th>\n",
       "      <th>status</th>\n",
       "      <th>street_name</th>\n",
       "      <th>taxi_company_borough</th>\n",
       "      <th>taxi_pick_up_location</th>\n",
       "      <th>unique_key</th>\n",
       "      <th>x_coordinate_state_plane</th>\n",
       "      <th>y_coordinate_state_plane</th>\n",
       "    </tr>\n",
       "  </thead>\n",
       "  <tbody>\n",
       "    <tr>\n",
       "      <th>0</th>\n",
       "      <td>31</td>\n",
       "      <td>11271</td>\n",
       "      <td>58</td>\n",
       "      <td>26</td>\n",
       "      <td>5</td>\n",
       "      <td>ADDRESS</td>\n",
       "      <td>HPD</td>\n",
       "      <td>Department of Housing Preservation and Develop...</td>\n",
       "      <td>2039437501</td>\n",
       "      <td>BRONX</td>\n",
       "      <td>...</td>\n",
       "      <td>Unspecified</td>\n",
       "      <td>2016-02-13T08:53:35.000</td>\n",
       "      <td>The Department of Housing Preservation and Dev...</td>\n",
       "      <td>Closed</td>\n",
       "      <td>UNIONPORT ROAD</td>\n",
       "      <td>NaN</td>\n",
       "      <td>NaN</td>\n",
       "      <td>32670008</td>\n",
       "      <td>1023468</td>\n",
       "      <td>244401</td>\n",
       "    </tr>\n",
       "    <tr>\n",
       "      <th>1</th>\n",
       "      <td>26</td>\n",
       "      <td>17217</td>\n",
       "      <td>5</td>\n",
       "      <td>38</td>\n",
       "      <td>2</td>\n",
       "      <td>ADDRESS</td>\n",
       "      <td>HPD</td>\n",
       "      <td>Department of Housing Preservation and Develop...</td>\n",
       "      <td>3076300027</td>\n",
       "      <td>BROOKLYN</td>\n",
       "      <td>...</td>\n",
       "      <td>Unspecified</td>\n",
       "      <td>2016-02-15T13:11:44.000</td>\n",
       "      <td>The complaint you filed is a duplicate of a co...</td>\n",
       "      <td>Closed</td>\n",
       "      <td>NOSTRAND AVENUE</td>\n",
       "      <td>NaN</td>\n",
       "      <td>NaN</td>\n",
       "      <td>32670009</td>\n",
       "      <td>999171</td>\n",
       "      <td>166449</td>\n",
       "    </tr>\n",
       "    <tr>\n",
       "      <th>2</th>\n",
       "      <td>23</td>\n",
       "      <td>12428</td>\n",
       "      <td>37</td>\n",
       "      <td>19</td>\n",
       "      <td>4</td>\n",
       "      <td>ADDRESS</td>\n",
       "      <td>HPD</td>\n",
       "      <td>Department of Housing Preservation and Develop...</td>\n",
       "      <td>1020700043</td>\n",
       "      <td>MANHATTAN</td>\n",
       "      <td>...</td>\n",
       "      <td>Unspecified</td>\n",
       "      <td>2016-02-14T13:35:25.000</td>\n",
       "      <td>The Department of Housing Preservation and Dev...</td>\n",
       "      <td>Closed</td>\n",
       "      <td>WEST  139 STREET</td>\n",
       "      <td>NaN</td>\n",
       "      <td>NaN</td>\n",
       "      <td>32670010</td>\n",
       "      <td>997767</td>\n",
       "      <td>238673</td>\n",
       "    </tr>\n",
       "    <tr>\n",
       "      <th>3</th>\n",
       "      <td>26</td>\n",
       "      <td>16866</td>\n",
       "      <td>61</td>\n",
       "      <td>40</td>\n",
       "      <td>2</td>\n",
       "      <td>ADDRESS</td>\n",
       "      <td>HPD</td>\n",
       "      <td>Department of Housing Preservation and Develop...</td>\n",
       "      <td>3047370053</td>\n",
       "      <td>BROOKLYN</td>\n",
       "      <td>...</td>\n",
       "      <td>Unspecified</td>\n",
       "      <td>2016-02-17T03:00:54.000</td>\n",
       "      <td>The complaint you filed is a duplicate of a co...</td>\n",
       "      <td>Closed</td>\n",
       "      <td>EAST   52 STREET</td>\n",
       "      <td>NaN</td>\n",
       "      <td>NaN</td>\n",
       "      <td>32670011</td>\n",
       "      <td>1004245</td>\n",
       "      <td>175133</td>\n",
       "    </tr>\n",
       "    <tr>\n",
       "      <th>4</th>\n",
       "      <td>22</td>\n",
       "      <td>11269</td>\n",
       "      <td>35</td>\n",
       "      <td>31</td>\n",
       "      <td>5</td>\n",
       "      <td>ADDRESS</td>\n",
       "      <td>HPD</td>\n",
       "      <td>Department of Housing Preservation and Develop...</td>\n",
       "      <td>2031250040</td>\n",
       "      <td>BRONX</td>\n",
       "      <td>...</td>\n",
       "      <td>Unspecified</td>\n",
       "      <td>2016-02-15T20:07:13.000</td>\n",
       "      <td>The Department of Housing Preservation and Dev...</td>\n",
       "      <td>Closed</td>\n",
       "      <td>BRONX PARK SOUTH</td>\n",
       "      <td>NaN</td>\n",
       "      <td>NaN</td>\n",
       "      <td>32670012</td>\n",
       "      <td>1017180</td>\n",
       "      <td>247713</td>\n",
       "    </tr>\n",
       "  </tbody>\n",
       "</table>\n",
       "<p>5 rows × 40 columns</p>\n",
       "</div>"
      ],
      "text/plain": [
       "  :@computed_region_92fq_4b7q :@computed_region_efsh_h5xi  \\\n",
       "0                          31                       11271   \n",
       "1                          26                       17217   \n",
       "2                          23                       12428   \n",
       "3                          26                       16866   \n",
       "4                          22                       11269   \n",
       "\n",
       "  :@computed_region_f5dn_yrer :@computed_region_sbqj_enih  \\\n",
       "0                          58                          26   \n",
       "1                           5                          38   \n",
       "2                          37                          19   \n",
       "3                          61                          40   \n",
       "4                          35                          31   \n",
       "\n",
       "  :@computed_region_yeji_bk3q address_type agency  \\\n",
       "0                           5      ADDRESS    HPD   \n",
       "1                           2      ADDRESS    HPD   \n",
       "2                           4      ADDRESS    HPD   \n",
       "3                           2      ADDRESS    HPD   \n",
       "4                           5      ADDRESS    HPD   \n",
       "\n",
       "                                         agency_name         bbl    borough  \\\n",
       "0  Department of Housing Preservation and Develop...  2039437501      BRONX   \n",
       "1  Department of Housing Preservation and Develop...  3076300027   BROOKLYN   \n",
       "2  Department of Housing Preservation and Develop...  1020700043  MANHATTAN   \n",
       "3  Department of Housing Preservation and Develop...  3047370053   BROOKLYN   \n",
       "4  Department of Housing Preservation and Develop...  2031250040      BRONX   \n",
       "\n",
       "   ... park_facility_name resolution_action_updated_date  \\\n",
       "0  ...        Unspecified        2016-02-13T08:53:35.000   \n",
       "1  ...        Unspecified        2016-02-15T13:11:44.000   \n",
       "2  ...        Unspecified        2016-02-14T13:35:25.000   \n",
       "3  ...        Unspecified        2016-02-17T03:00:54.000   \n",
       "4  ...        Unspecified        2016-02-15T20:07:13.000   \n",
       "\n",
       "                              resolution_description  status  \\\n",
       "0  The Department of Housing Preservation and Dev...  Closed   \n",
       "1  The complaint you filed is a duplicate of a co...  Closed   \n",
       "2  The Department of Housing Preservation and Dev...  Closed   \n",
       "3  The complaint you filed is a duplicate of a co...  Closed   \n",
       "4  The Department of Housing Preservation and Dev...  Closed   \n",
       "\n",
       "        street_name taxi_company_borough taxi_pick_up_location unique_key  \\\n",
       "0    UNIONPORT ROAD                  NaN                   NaN   32670008   \n",
       "1   NOSTRAND AVENUE                  NaN                   NaN   32670009   \n",
       "2  WEST  139 STREET                  NaN                   NaN   32670010   \n",
       "3  EAST   52 STREET                  NaN                   NaN   32670011   \n",
       "4  BRONX PARK SOUTH                  NaN                   NaN   32670012   \n",
       "\n",
       "  x_coordinate_state_plane y_coordinate_state_plane  \n",
       "0                  1023468                   244401  \n",
       "1                   999171                   166449  \n",
       "2                   997767                   238673  \n",
       "3                  1004245                   175133  \n",
       "4                  1017180                   247713  \n",
       "\n",
       "[5 rows x 40 columns]"
      ]
     },
     "execution_count": 13,
     "metadata": {},
     "output_type": "execute_result"
    }
   ],
   "source": [
    "df = pd.DataFrame(data)\n",
    "\n",
    "print(len(df))\n",
    "df.head()"
   ]
  },
  {
   "cell_type": "code",
   "execution_count": null,
   "metadata": {},
   "outputs": [],
   "source": []
  }
 ],
 "metadata": {
  "kernelspec": {
   "display_name": "Python 3",
   "language": "python",
   "name": "python3"
  },
  "language_info": {
   "codemirror_mode": {
    "name": "ipython",
    "version": 3
   },
   "file_extension": ".py",
   "mimetype": "text/x-python",
   "name": "python",
   "nbconvert_exporter": "python",
   "pygments_lexer": "ipython3",
   "version": "3.7.3"
  }
 },
 "nbformat": 4,
 "nbformat_minor": 2
}
