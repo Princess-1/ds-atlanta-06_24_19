{
 "cells": [
  {
   "cell_type": "markdown",
   "metadata": {},
   "source": [
    "# Using the Yelp API - Codealong\n"
   ]
  },
  {
   "cell_type": "markdown",
   "metadata": {},
   "source": [
    "## Objectives\n",
    "\n",
    "You will be able to:\n",
    "\n",
    "* Generate an OAuth token for the yelp API\n",
    "* Make requests using OAuth"
   ]
  },
  {
   "cell_type": "markdown",
   "metadata": {},
   "source": [
    "## Generating Access Tokens\n",
    "\n",
    "As discussed, in order to use many APIs, one needs to use OAuth which requires an access token. As such, our first step will be to generate this login information so that we can start making some requests.  \n",
    "\n",
    "With that, lets go grab an access token from an API site and make some API calls!\n",
    "Point your browser over to this [yelp page](https://www.yelp.com/developers/v3/manage_app) and start creating an app in order to obtain and api access token:"
   ]
  },
  {
   "cell_type": "markdown",
   "metadata": {},
   "source": [
    "You can either sign in to an existing Yelp account, or create a new one, if needed.\n",
    "\n",
    "On the page you see above, simply fill out some sample information such as \"Flatiron Edu API Example\" for the app name, or whatever floats your boat. Afterwards, you should be presented with an API key that you can use to make requests!\n",
    "\n",
    "With that, it's time to start making some api calls!"
   ]
  },
  {
   "cell_type": "code",
   "execution_count": 1,
   "metadata": {},
   "outputs": [],
   "source": [
    "#As a general rule of thumb, don't store passwords in a main file like this!\n",
    "#Instead, you would normally store those passwords under a sub file like passwords.py which you would then import.\n",
    "#Or even better, as an environment variable that could then be imported!\n",
    "#For now, we'll simply hardcode them into our notebook for simplicity.\n",
    "#client_id = 'bVX1Jsfp4dkIOqw5HOVplg' #Your client ID goes here (as a string)\n",
    "#api_key = 'RTzp-q-TgkJW_NFQogubFvZNRDziXyoR38VbtZMWibDI-FlvB25OE7GmafFEqhTL8_Bk2HlcX24-hRWLMP7Nc6WHO_VXMXldpPBjP0LoPv5EFFELMSI2oll8njhbXHYx' #Your api key goes here (as a string)\n",
    "client_id = 'Sy8X7a3CwlgqGvDokAWDBw' #Your client ID goes here (as a string)\n",
    "api_key = 'ZsADtQO7iEgbA1jRiB9TZMkOgtiEevq--yrNxphWLypWpKM4W-ER2O2dxl3pUHfnwM3dhkGhCW4eoEiAETZIFBT18UWYZeJerf2-SxJ0ubb5Gx7QAGqMhTtOi9IwXXYx' #Your api key goes here (as a string)\n"
   ]
  },
  {
   "cell_type": "markdown",
   "metadata": {},
   "source": [
    "## An Example Request with OAuth <a id=\"oauth_request\"></a>\n",
    "https://www.yelp.com/developers/documentation/v3/get_started\n",
    "\n",
    "In the next lesson, we'll further dissect how to read and translate online documentation like the link here. For now, let's simply look at an example request and dissect it into its consituent parts:"
   ]
  },
  {
   "cell_type": "code",
   "execution_count": 2,
   "metadata": {},
   "outputs": [],
   "source": [
    "import requests\n",
    "term = 'Mexican'\n",
    "location = 'Astoria NY'\n",
    "SEARCH_LIMIT = 10\n",
    "\n",
    "url = 'https://api.yelp.com/v3/businesses/search'\n",
    "\n",
    "headers = {\n",
    "        'Authorization': 'Bearer {}'.format(api_key),\n",
    "    }\n",
    "\n",
    "url_params = {\n",
    "                'term': term.replace(' ', '+'),\n",
    "                'location': location.replace(' ', '+'),\n",
    "                'limit': SEARCH_LIMIT\n",
    "            }\n",
    "response = requests.get(url, headers=headers, params=url_params)\n"
   ]
  },
  {
   "cell_type": "code",
   "execution_count": 3,
   "metadata": {},
   "outputs": [
    {
     "name": "stdout",
     "output_type": "stream",
     "text": [
      "<Response [200]>\n",
      "<class 'str'>\n",
      "{\"businesses\": [{\"id\": \"6AJwsgXr7YwsqneGVAdgzw\", \"alias\": \"las-catrinas-mexican-bar-and-eatery-astoria\", \"name\": \"Las Catrinas Mexican Bar & Eatery\", \"image_url\": \"https://s3-media4.fl.yelpcdn.com/bphoto/jBBGAF2Db3Gb3KNCQ8MqTg/o.jpg\", \"is_closed\": false, \"url\": \"https://www.yelp.com/biz/las-catrinas-mexican-bar-and-eatery-astoria?adjust_creative=Sy8X7a3CwlgqGvDokAWDBw&utm_campaign=yelp_api_v3&utm_medium=api_v3_business_search&utm_source=Sy8X7a3CwlgqGvDokAWDBw\", \"review_count\": 276, \"categories\": [{\"alias\": \"mexican\", \"title\": \"Mexican\"}, {\"alias\": \"cocktailbars\", \"title\": \"Cocktail Bars\"}], \"rating\": 4.0, \"coordinates\": {\"latitude\": 40.7614214682633, \"longitude\": -73.9246649456171}, \"transactions\": [\"delivery\", \"pickup\"], \"price\": \"$$\", \"location\": {\"address1\": \"32-02 Broadway\", \"address2\": \"\", \"address3\": null, \"city\": \"Astoria\", \"zip_code\": \"11106\", \"country\": \"US\", \"state\": \"NY\", \"display_address\": [\"32-02 Broadway\", \"Astoria, NY 11106\"]}, \"phone\": \"+19177450969\", \"display_phone\": \"\n"
     ]
    }
   ],
   "source": [
    "print(response)\n",
    "print(type(response.text))\n",
    "print(response.text[:1000])"
   ]
  },
  {
   "cell_type": "code",
   "execution_count": 4,
   "metadata": {},
   "outputs": [
    {
     "data": {
      "text/plain": [
       "10"
      ]
     },
     "execution_count": 4,
     "metadata": {},
     "output_type": "execute_result"
    }
   ],
   "source": [
    "len(response.json()['businesses'])\n"
   ]
  },
  {
   "cell_type": "markdown",
   "metadata": {},
   "source": [
    "## Breaking Down the Request\n",
    "\n",
    "As you can see, there are three main parts to our request.  \n",
    "  \n",
    "They are:\n",
    "* The url\n",
    "* The header\n",
    "* The parameters\n",
    "  \n",
    "The url is fairly straightforward and is simply the base url as described in the documentation (again more details in the upcoming lesson).\n",
    "\n",
    "The header is a dictionary of key-value pairs. In this case, we are using a fairly standard header used by many APIs. It has a strict form where 'Authorization' is the key and 'Bearer YourApiKey' is the value.\n",
    "\n",
    "The parameters are the filters which we wish to pass into the query. These will be embedded into the url when the request is made to the api. Similar to the header, they form key-value pairs. Valid key parameters by which to structure your queries, are described in the API documentation which we'll look at further shortly. A final important note however, is the need to replace spaces with \"+\". This is standard to many requests as URLs cannot contain spaces. (Note that the header itself isn't directly embedded into the url itself and as such, the space between 'Bearer' and YourApiKey is valid.)"
   ]
  },
  {
   "cell_type": "markdown",
   "metadata": {},
   "source": [
    "## The Response\n",
    "\n",
    "As before, our response object has both a status code, as well as the data itself. With that, let's start with a little data exploration!"
   ]
  },
  {
   "cell_type": "code",
   "execution_count": 5,
   "metadata": {},
   "outputs": [
    {
     "data": {
      "text/plain": [
       "dict_keys(['businesses', 'total', 'region'])"
      ]
     },
     "execution_count": 5,
     "metadata": {},
     "output_type": "execute_result"
    }
   ],
   "source": [
    "response.json().keys()"
   ]
  },
  {
   "cell_type": "markdown",
   "metadata": {},
   "source": [
    "Now let's go a bit further and start to preview what's stored in each of the values for these keys."
   ]
  },
  {
   "cell_type": "code",
   "execution_count": 6,
   "metadata": {},
   "outputs": [
    {
     "name": "stdout",
     "output_type": "stream",
     "text": [
      "businesses\n",
      "<class 'list'>\n",
      "\n",
      "\n",
      "\n",
      "total\n",
      "<class 'int'>\n",
      "\n",
      "\n",
      "\n",
      "region\n",
      "<class 'dict'>\n",
      "\n",
      "\n",
      "\n"
     ]
    }
   ],
   "source": [
    "for key in response.json().keys():\n",
    "    print(key)\n",
    "    value = response.json()[key] #Use standard dictionary formatting\n",
    "    print(type(value)) #What type is it?\n",
    "    print('\\n\\n') #Seperate out data"
   ]
  },
  {
   "cell_type": "code",
   "execution_count": 7,
   "metadata": {},
   "outputs": [
    {
     "data": {
      "text/plain": [
       "[{'id': '6AJwsgXr7YwsqneGVAdgzw',\n",
       "  'alias': 'las-catrinas-mexican-bar-and-eatery-astoria',\n",
       "  'name': 'Las Catrinas Mexican Bar & Eatery',\n",
       "  'image_url': 'https://s3-media4.fl.yelpcdn.com/bphoto/jBBGAF2Db3Gb3KNCQ8MqTg/o.jpg',\n",
       "  'is_closed': False,\n",
       "  'url': 'https://www.yelp.com/biz/las-catrinas-mexican-bar-and-eatery-astoria?adjust_creative=Sy8X7a3CwlgqGvDokAWDBw&utm_campaign=yelp_api_v3&utm_medium=api_v3_business_search&utm_source=Sy8X7a3CwlgqGvDokAWDBw',\n",
       "  'review_count': 276,\n",
       "  'categories': [{'alias': 'mexican', 'title': 'Mexican'},\n",
       "   {'alias': 'cocktailbars', 'title': 'Cocktail Bars'}],\n",
       "  'rating': 4.0,\n",
       "  'coordinates': {'latitude': 40.7614214682633,\n",
       "   'longitude': -73.9246649456171},\n",
       "  'transactions': ['delivery', 'pickup'],\n",
       "  'price': '$$',\n",
       "  'location': {'address1': '32-02 Broadway',\n",
       "   'address2': '',\n",
       "   'address3': None,\n",
       "   'city': 'Astoria',\n",
       "   'zip_code': '11106',\n",
       "   'country': 'US',\n",
       "   'state': 'NY',\n",
       "   'display_address': ['32-02 Broadway', 'Astoria, NY 11106']},\n",
       "  'phone': '+19177450969',\n",
       "  'display_phone': '(917) 745-0969',\n",
       "  'distance': 642.5257707161409},\n",
       " {'id': 'jzVv_21473lAMYXIhVbuTA',\n",
       "  'alias': 'de-mole-astoria-astoria',\n",
       "  'name': 'De Mole Astoria',\n",
       "  'image_url': 'https://s3-media1.fl.yelpcdn.com/bphoto/zZTTfdIGbQkQQptgQmin1A/o.jpg',\n",
       "  'is_closed': False,\n",
       "  'url': 'https://www.yelp.com/biz/de-mole-astoria-astoria?adjust_creative=Sy8X7a3CwlgqGvDokAWDBw&utm_campaign=yelp_api_v3&utm_medium=api_v3_business_search&utm_source=Sy8X7a3CwlgqGvDokAWDBw',\n",
       "  'review_count': 353,\n",
       "  'categories': [{'alias': 'mexican', 'title': 'Mexican'}],\n",
       "  'rating': 4.0,\n",
       "  'coordinates': {'latitude': 40.7625999, 'longitude': -73.9129028},\n",
       "  'transactions': ['delivery', 'pickup'],\n",
       "  'price': '$$',\n",
       "  'location': {'address1': '4220 30th Ave',\n",
       "   'address2': '',\n",
       "   'address3': '',\n",
       "   'city': 'Astoria',\n",
       "   'zip_code': '11103',\n",
       "   'country': 'US',\n",
       "   'state': 'NY',\n",
       "   'display_address': ['4220 30th Ave', 'Astoria, NY 11103']},\n",
       "  'phone': '+17187771655',\n",
       "  'display_phone': '(718) 777-1655',\n",
       "  'distance': 918.0927716406379}]"
      ]
     },
     "execution_count": 7,
     "metadata": {},
     "output_type": "execute_result"
    }
   ],
   "source": [
    "yelp_data =response.json()\n",
    "yelp_data['businesses'][:2]"
   ]
  },
  {
   "cell_type": "markdown",
   "metadata": {},
   "source": [
    "## Pagination\n",
    "\n",
    "Now that you have an initial response, you can examine the contents of the json container. For example, you might start with ```response.json().keys()```. Here, you'll see a key for `'total'`, which tells you the full number of matching results given your query parameters. Write a loop (or ideally a function) which then makes successive API calls using the offset parameter to retrieve all of the results (or 5000 for a particularly large result set) for the original query. As you do this, be mindful of how you store the data. Your final goal will be to reformat the data concerning the businesses themselves into a pandas DataFrame from the json objects."
   ]
  },
  {
   "cell_type": "code",
   "execution_count": 8,
   "metadata": {},
   "outputs": [
    {
     "name": "stdout",
     "output_type": "stream",
     "text": [
      "677 total matches found.\n",
      "700\n"
     ]
    },
    {
     "data": {
      "text/html": [
       "<div>\n",
       "<style scoped>\n",
       "    .dataframe tbody tr th:only-of-type {\n",
       "        vertical-align: middle;\n",
       "    }\n",
       "\n",
       "    .dataframe tbody tr th {\n",
       "        vertical-align: top;\n",
       "    }\n",
       "\n",
       "    .dataframe thead th {\n",
       "        text-align: right;\n",
       "    }\n",
       "</style>\n",
       "<table border=\"1\" class=\"dataframe\">\n",
       "  <thead>\n",
       "    <tr style=\"text-align: right;\">\n",
       "      <th></th>\n",
       "      <th>alias</th>\n",
       "      <th>categories</th>\n",
       "      <th>coordinates</th>\n",
       "      <th>display_phone</th>\n",
       "      <th>distance</th>\n",
       "      <th>id</th>\n",
       "      <th>image_url</th>\n",
       "      <th>is_closed</th>\n",
       "      <th>location</th>\n",
       "      <th>name</th>\n",
       "      <th>phone</th>\n",
       "      <th>price</th>\n",
       "      <th>rating</th>\n",
       "      <th>review_count</th>\n",
       "      <th>transactions</th>\n",
       "      <th>url</th>\n",
       "    </tr>\n",
       "  </thead>\n",
       "  <tbody>\n",
       "    <tr>\n",
       "      <th>0</th>\n",
       "      <td>milkflower-astoria</td>\n",
       "      <td>[{'alias': 'pizza', 'title': 'Pizza'}]</td>\n",
       "      <td>{'latitude': 40.7628961, 'longitude': -73.9207...</td>\n",
       "      <td>(718) 204-1300</td>\n",
       "      <td>461.294783</td>\n",
       "      <td>1OZPOWZwJr-hpvMt6TD4ug</td>\n",
       "      <td>https://s3-media3.fl.yelpcdn.com/bphoto/SQG1kI...</td>\n",
       "      <td>False</td>\n",
       "      <td>{'address1': '3412 31st Ave', 'address2': '', ...</td>\n",
       "      <td>Milkflower</td>\n",
       "      <td>+17182041300</td>\n",
       "      <td>$$</td>\n",
       "      <td>4.5</td>\n",
       "      <td>595</td>\n",
       "      <td>[]</td>\n",
       "      <td>https://www.yelp.com/biz/milkflower-astoria?ad...</td>\n",
       "    </tr>\n",
       "    <tr>\n",
       "      <th>1</th>\n",
       "      <td>rizzos-fine-pizza-astoria</td>\n",
       "      <td>[{'alias': 'pizza', 'title': 'Pizza'}]</td>\n",
       "      <td>{'latitude': 40.76335, 'longitude': -73.91516}</td>\n",
       "      <td>(718) 721-9862</td>\n",
       "      <td>713.161109</td>\n",
       "      <td>hB2S1y5T9ufMz5ksHHhdIA</td>\n",
       "      <td>https://s3-media3.fl.yelpcdn.com/bphoto/p1IQ1w...</td>\n",
       "      <td>False</td>\n",
       "      <td>{'address1': '3013 Steinway St', 'address2': '...</td>\n",
       "      <td>Rizzo's Fine Pizza</td>\n",
       "      <td>+17187219862</td>\n",
       "      <td>$</td>\n",
       "      <td>4.0</td>\n",
       "      <td>564</td>\n",
       "      <td>[delivery, pickup]</td>\n",
       "      <td>https://www.yelp.com/biz/rizzos-fine-pizza-ast...</td>\n",
       "    </tr>\n",
       "    <tr>\n",
       "      <th>2</th>\n",
       "      <td>sacs-place-astoria</td>\n",
       "      <td>[{'alias': 'pizza', 'title': 'Pizza'}, {'alias...</td>\n",
       "      <td>{'latitude': 40.7628982173022, 'longitude': -7...</td>\n",
       "      <td>(718) 204-5002</td>\n",
       "      <td>605.395513</td>\n",
       "      <td>Y3xDbSHXs6apMA4JLGJZ1Q</td>\n",
       "      <td>https://s3-media3.fl.yelpcdn.com/bphoto/DvDlQ_...</td>\n",
       "      <td>False</td>\n",
       "      <td>{'address1': '2541 Broadway', 'address2': '', ...</td>\n",
       "      <td>Sac's Place</td>\n",
       "      <td>+17182045002</td>\n",
       "      <td>$$</td>\n",
       "      <td>4.0</td>\n",
       "      <td>461</td>\n",
       "      <td>[delivery, pickup]</td>\n",
       "      <td>https://www.yelp.com/biz/sacs-place-astoria?ad...</td>\n",
       "    </tr>\n",
       "    <tr>\n",
       "      <th>3</th>\n",
       "      <td>basil-brick-oven-pizza-astoria</td>\n",
       "      <td>[{'alias': 'pizza', 'title': 'Pizza'}, {'alias...</td>\n",
       "      <td>{'latitude': 40.770946, 'longitude': -73.92001}</td>\n",
       "      <td>(718) 204-1205</td>\n",
       "      <td>487.240449</td>\n",
       "      <td>JjpCF17AxF6RPOyimw21cw</td>\n",
       "      <td>https://s3-media1.fl.yelpcdn.com/bphoto/VLm8YK...</td>\n",
       "      <td>False</td>\n",
       "      <td>{'address1': '28-17 Astoria Blvd', 'address2':...</td>\n",
       "      <td>Basil Brick Oven Pizza</td>\n",
       "      <td>+17182041205</td>\n",
       "      <td>$$</td>\n",
       "      <td>4.0</td>\n",
       "      <td>470</td>\n",
       "      <td>[delivery, pickup]</td>\n",
       "      <td>https://www.yelp.com/biz/basil-brick-oven-pizz...</td>\n",
       "    </tr>\n",
       "    <tr>\n",
       "      <th>4</th>\n",
       "      <td>rosas-pizza-astoria</td>\n",
       "      <td>[{'alias': 'pizza', 'title': 'Pizza'}]</td>\n",
       "      <td>{'latitude': 40.7671877, 'longitude': -73.9299...</td>\n",
       "      <td>(718) 726-1296</td>\n",
       "      <td>655.314626</td>\n",
       "      <td>5Uo_a_Kl53O_yKglSR5nBA</td>\n",
       "      <td>https://s3-media3.fl.yelpcdn.com/bphoto/6VImxk...</td>\n",
       "      <td>False</td>\n",
       "      <td>{'address1': '31-1 21st St', 'address2': '', '...</td>\n",
       "      <td>Rosa's Pizza</td>\n",
       "      <td>+17187261296</td>\n",
       "      <td>$$</td>\n",
       "      <td>4.5</td>\n",
       "      <td>65</td>\n",
       "      <td>[]</td>\n",
       "      <td>https://www.yelp.com/biz/rosas-pizza-astoria?a...</td>\n",
       "    </tr>\n",
       "  </tbody>\n",
       "</table>\n",
       "</div>"
      ],
      "text/plain": [
       "                            alias  \\\n",
       "0              milkflower-astoria   \n",
       "1       rizzos-fine-pizza-astoria   \n",
       "2              sacs-place-astoria   \n",
       "3  basil-brick-oven-pizza-astoria   \n",
       "4             rosas-pizza-astoria   \n",
       "\n",
       "                                          categories  \\\n",
       "0             [{'alias': 'pizza', 'title': 'Pizza'}]   \n",
       "1             [{'alias': 'pizza', 'title': 'Pizza'}]   \n",
       "2  [{'alias': 'pizza', 'title': 'Pizza'}, {'alias...   \n",
       "3  [{'alias': 'pizza', 'title': 'Pizza'}, {'alias...   \n",
       "4             [{'alias': 'pizza', 'title': 'Pizza'}]   \n",
       "\n",
       "                                         coordinates   display_phone  \\\n",
       "0  {'latitude': 40.7628961, 'longitude': -73.9207...  (718) 204-1300   \n",
       "1     {'latitude': 40.76335, 'longitude': -73.91516}  (718) 721-9862   \n",
       "2  {'latitude': 40.7628982173022, 'longitude': -7...  (718) 204-5002   \n",
       "3    {'latitude': 40.770946, 'longitude': -73.92001}  (718) 204-1205   \n",
       "4  {'latitude': 40.7671877, 'longitude': -73.9299...  (718) 726-1296   \n",
       "\n",
       "     distance                      id  \\\n",
       "0  461.294783  1OZPOWZwJr-hpvMt6TD4ug   \n",
       "1  713.161109  hB2S1y5T9ufMz5ksHHhdIA   \n",
       "2  605.395513  Y3xDbSHXs6apMA4JLGJZ1Q   \n",
       "3  487.240449  JjpCF17AxF6RPOyimw21cw   \n",
       "4  655.314626  5Uo_a_Kl53O_yKglSR5nBA   \n",
       "\n",
       "                                           image_url  is_closed  \\\n",
       "0  https://s3-media3.fl.yelpcdn.com/bphoto/SQG1kI...      False   \n",
       "1  https://s3-media3.fl.yelpcdn.com/bphoto/p1IQ1w...      False   \n",
       "2  https://s3-media3.fl.yelpcdn.com/bphoto/DvDlQ_...      False   \n",
       "3  https://s3-media1.fl.yelpcdn.com/bphoto/VLm8YK...      False   \n",
       "4  https://s3-media3.fl.yelpcdn.com/bphoto/6VImxk...      False   \n",
       "\n",
       "                                            location                    name  \\\n",
       "0  {'address1': '3412 31st Ave', 'address2': '', ...              Milkflower   \n",
       "1  {'address1': '3013 Steinway St', 'address2': '...      Rizzo's Fine Pizza   \n",
       "2  {'address1': '2541 Broadway', 'address2': '', ...             Sac's Place   \n",
       "3  {'address1': '28-17 Astoria Blvd', 'address2':...  Basil Brick Oven Pizza   \n",
       "4  {'address1': '31-1 21st St', 'address2': '', '...            Rosa's Pizza   \n",
       "\n",
       "          phone price  rating  review_count        transactions  \\\n",
       "0  +17182041300    $$     4.5           595                  []   \n",
       "1  +17187219862     $     4.0           564  [delivery, pickup]   \n",
       "2  +17182045002    $$     4.0           461  [delivery, pickup]   \n",
       "3  +17182041205    $$     4.0           470  [delivery, pickup]   \n",
       "4  +17187261296    $$     4.5            65                  []   \n",
       "\n",
       "                                                 url  \n",
       "0  https://www.yelp.com/biz/milkflower-astoria?ad...  \n",
       "1  https://www.yelp.com/biz/rizzos-fine-pizza-ast...  \n",
       "2  https://www.yelp.com/biz/sacs-place-astoria?ad...  \n",
       "3  https://www.yelp.com/biz/basil-brick-oven-pizz...  \n",
       "4  https://www.yelp.com/biz/rosas-pizza-astoria?a...  "
      ]
     },
     "execution_count": 8,
     "metadata": {},
     "output_type": "execute_result"
    }
   ],
   "source": [
    "# Your code here; use a function or loop to retrieve all the results from your original request\n",
    "import pandas as pd\n",
    "import time\n",
    "\n",
    "def yelp_call(url_params, api_key):\n",
    "    url = 'https://api.yelp.com/v3/businesses/search'\n",
    "    headers = {'Authorization': 'Bearer {}'.format(api_key)}\n",
    "    response = requests.get(url, headers=headers, params=url_params)\n",
    "    \n",
    "    df = pd.DataFrame(response.json()['businesses'])\n",
    "    return df\n",
    "\n",
    "def all_results(url_params, api_key):\n",
    "    num = response.json()['total']\n",
    "    print('{} total matches found.'.format(num))\n",
    "    cur = 0\n",
    "    dfs = []\n",
    "    while cur < num and cur < 1000:\n",
    "        url_params['offset'] = cur\n",
    "        dfs.append(yelp_call(url_params, api_key))\n",
    "        time.sleep(1) #Wait a second\n",
    "        cur += 50\n",
    "    df = pd.concat(dfs, ignore_index=True)\n",
    "    return df\n",
    "\n",
    "term = 'pizza'\n",
    "location = 'Astoria NY'\n",
    "url_params = {  'term': term.replace(' ', '+'),\n",
    "                'location': location.replace(' ', '+'),\n",
    "                'limit' : 50\n",
    "             }\n",
    "df = all_results(url_params, api_key)\n",
    "print(len(df))\n",
    "df.head()"
   ]
  },
  {
   "cell_type": "markdown",
   "metadata": {},
   "source": [
    "## Exploratory Analysis\n",
    "\n",
    "Take the restaurants from the previous question and do an intial exploratory analysis. At minimum, this should include looking at the distribution of features such as price, rating and number of reviews as well as the relations between these dimensions."
   ]
  },
  {
   "cell_type": "code",
   "execution_count": null,
   "metadata": {},
   "outputs": [],
   "source": [
    "import matplotlib.pyplot as plt\n",
    "%matplotlib inline\n",
    "\n",
    "df.price = df.price.fillna(value=0)\n",
    "price_dict = {\"$\": 1, \"$$\":2, \"$$$\": 3, \"$$$$\":4}\n",
    "df.price = df.price.map(price_dict)\n",
    "\n",
    "pd.plotting.scatter_matrix(df[['price', 'rating', 'review_count']])"
   ]
  },
  {
   "cell_type": "code",
   "execution_count": null,
   "metadata": {},
   "outputs": [],
   "source": []
  }
 ],
 "metadata": {
  "kernelspec": {
   "display_name": "Python 3",
   "language": "python",
   "name": "python3"
  },
  "language_info": {
   "codemirror_mode": {
    "name": "ipython",
    "version": 3
   },
   "file_extension": ".py",
   "mimetype": "text/x-python",
   "name": "python",
   "nbconvert_exporter": "python",
   "pygments_lexer": "ipython3",
   "version": "3.7.3"
  }
 },
 "nbformat": 4,
 "nbformat_minor": 2
}
